{
 "cells": [
  {
   "cell_type": "code",
   "execution_count": 1,
   "id": "a209091c-7f80-4889-8d06-b3e2a17dab7c",
   "metadata": {},
   "outputs": [],
   "source": [
    "import os\n",
    "import pandas as pd\n",
    "import numpy as np\n",
    "import openpyxl"
   ]
  },
  {
   "cell_type": "code",
   "execution_count": 2,
   "id": "1c3059d1-4f58-4bca-b24b-034267a3ede1",
   "metadata": {},
   "outputs": [],
   "source": [
    "def combiner_type_1(nr, data_dir = '/home/dad/projects/tgu/test_task/data/'):\n",
    "    ''' Принимает на вход номера файлов для обработки и директорию где эти файлы находятся,\n",
    "        записывает результрующий файл в директорию по умолчанию и возвращает этот файл как pd.DataFrame.\n",
    "        Обрабатывает только указанные файлы:\n",
    "        обработка файлов №№ 3, 7, 8, 10, 23, 24, 26, 27, 31, 34, 35, 39, 44, 56, 58,\n",
    "        индикаторов №№ 58683, 58684, 59597, 58672, 58525, 58484, 59557, 58527, 58712, 58681, 58702, 58807, 58700, 58517, 58468,\n",
    "    '''\n",
    "    result = pd.DataFrame(columns=('Расшифровка', 'Обозреваемый период', 'Единица измерения', 'Единица физических величин', 'Значение', \n",
    "                                   'Дата обновления данных', 'Пол', 'Возраст', 'Тип населенного пункта', 'Частота предоставления данных', \n",
    "                                   'Регион', 'Номер файла', 'Раздел'))\n",
    "    for file_nr in nr:\n",
    "        #  загружаем файл:\n",
    "        data_name = data_dir + 'data(' + str(file_nr) + ').xls'\n",
    "        dict_df = pd.read_excel(data_name, sheet_name=None)\n",
    "        #  выделим в отдельные датафреймы Данные и Паспорт: \n",
    "        df = dict_df['Данные']\n",
    "        df1 = dict_df['Паспорт']\n",
    "        #  выделим значения из таблицы Данные:\n",
    "        a1 = df.columns[0]\n",
    "        a2 = df.iloc[2:, 0].astype(int)\n",
    "        a3 = df.iloc[2:, 1]\n",
    "        #  выставим значение для поля 'Единица физических величин':\n",
    "        if file_nr not in (35, 39, 56):\n",
    "            a4 = [df1.iloc[1, 1][2:]]\n",
    "        elif file_nr == 35:\n",
    "            a4 =['человек на миллион жителей']\n",
    "        elif file_nr == 39:\n",
    "            a4 = ['Количество исследователей (в эквиваленте полной занятости) на миллион жителей']\n",
    "        elif file_nr == 56:\n",
    "            a4 =['зарегистрированных больных на 100000 человек']\n",
    "        length = len(a2) # длина получаемой таблицы\n",
    "        #  сформируем таблицу по шаблону:\n",
    "        output = pd.DataFrame({'Расшифровка': [a1] * length,\n",
    "                          'Обозреваемый период': a2 if file_nr != 10 else [df.iloc[1, 1] + ', '] * 2 + df.iloc[2:, 0].astype(int).astype(str),\n",
    "                          'Единица измерения': [df1.iloc[1, 1][2:]] * length,\n",
    "                          'Единица физических величин': a4 * length, \n",
    "                          'Значение': df.iloc[2:, 1],\n",
    "                          'Дата обновления данных': [df1.iloc[5, 1]] * length,\n",
    "                          'Пол': ['_T'] * length,\n",
    "                          'Возраст': ['_T'] * length,\n",
    "                          'Тип населенного пункта': ['_T'] * length,\n",
    "                          'Частота предоставления данных': ['A' if df1.iloc[2, 1][:9] == '- Годовая' else df1.iloc[2, 1][2:16]] * length,\n",
    "                          'Регион': ['Российская Федерация'] * length,\n",
    "                          'Номер файла': [file_nr] * length,\n",
    "                          'Раздел': ['_T'] * length\n",
    "                          })\n",
    "        result = pd.concat([result, output], axis=0) #  добавляем сформированную таблицу в результирующую таблицу\n",
    "    #  сохраним результаты в файл csv\n",
    "    result.to_csv('result_type_1.csv', encoding='utf-8', index = False)\n",
    "    return result"
   ]
  },
  {
   "cell_type": "code",
   "execution_count": 3,
   "id": "bd6b9e09-05f8-4102-960b-c67a12c60f7f",
   "metadata": {},
   "outputs": [],
   "source": [
    "def combiner_type_8(nr, data_dir = '/home/dad/projects/tgu/test_task/data/'):\n",
    "    ''' Принимает на вход номера файлов для обработки и директорию где эти файлы находятся,\n",
    "        записывает результрующий файл в директорию по умолчанию и возвращает этот файл как pd.DataFrame.\n",
    "        Обрабатывает только указанные файлы:\n",
    "        обработка файлов №№ 0, 32, 33\n",
    "        индикаторов №№ 58536, 59141, 40552\n",
    "    '''\n",
    "    result = pd.DataFrame(columns=('Расшифровка', 'Обозреваемый период', 'Единица измерения', 'Единица физических величин', 'Значение', \n",
    "                                   'Дата обновления данных', 'Пол', 'Возраст', 'Тип населенного пункта', 'Частота предоставления данных', \n",
    "                                   'Регион', 'Номер файла', 'Раздел'))\n",
    "    for file_nr in nr:\n",
    "        #  загружаем файл:\n",
    "        data_name = data_dir + 'data(' + str(file_nr) + ').xls'\n",
    "        dict_df = pd.read_excel(data_name, sheet_name=None)\n",
    "        #  выделим в отдельные датафреймы Данные и Паспорт: \n",
    "        df = dict_df['Данные']\n",
    "        df1 = dict_df['Паспорт']\n",
    "        #  плавим исходную таблицу:\n",
    "        if file_nr in (0, 33):\n",
    "            df.iloc[1, 0:2] = (1, 2)\n",
    "            df2 = df.rename(columns = df.iloc[1,:].astype(int))\n",
    "            formatted_df = pd.melt(df2[2:], [1, 2], var_name=\"period\", value_name=\"numbers\")\n",
    "        elif file_nr == 32:\n",
    "            df.iloc[1, 0] = 1\n",
    "            df2 = df.rename(columns = df.iloc[1,:].astype(int))\n",
    "            formatted_df = pd.melt(df2[2:], [1], var_name=\"period\", value_name=\"numbers\")\n",
    "        #  заменяем незначащие значения на _Т:\n",
    "        mask = formatted_df[1].apply(lambda x: x == 'Всего%')\n",
    "        formatted_df[1][mask] = '_T'\n",
    "        #  выделим значения из таблицы Данные:\n",
    "        a1 = df.columns[0] #  Расшифровка\n",
    "\n",
    "        #  выставим значение для поля 'Единица физических величин':\n",
    "        a4 = [df1.iloc[1, 1][2:]]\n",
    "\n",
    "        length = len(formatted_df['period']) # длина получаемой таблицы\n",
    "        #  сформируем таблицу по шаблону:\n",
    "        output = pd.DataFrame({'Расшифровка': [a1] * length,\n",
    "                          'Обозреваемый период': formatted_df['period'],\n",
    "                          'Единица измерения': [df1.iloc[1, 1][2:]] * length,\n",
    "                          'Единица физических величин': a4 * length, \n",
    "                          'Значение': formatted_df['numbers'],\n",
    "                          'Дата обновления данных': [df1.iloc[5, 1]] * length,\n",
    "                          'Пол': ['_T'] * length,\n",
    "                          'Возраст': ['_T'] * length,\n",
    "                          'Тип населенного пункта': ['_T'] * length,\n",
    "                          'Частота предоставления данных': ['A' if df1.iloc[2, 1][:9] == '- Годовая' else df1.iloc[2, 1][2:16]] * length,\n",
    "                          'Регион': formatted_df[2].apply(lambda x: x.lstrip()) if file_nr == 0 else ['Российская Федерация'] * length,\n",
    "                          'Номер файла': [file_nr] * length,\n",
    "                          'Раздел': formatted_df[1].apply(lambda x: x.lstrip()),\n",
    "                          })\n",
    "\n",
    "        result = pd.concat([result, output], axis=0) #  добавляем сформированную таблицу в результирующую таблицу\n",
    "    #  сохраним результаты в файл csv\n",
    "    result.to_csv('result_type_8.csv', encoding='utf-8', index = False)\n",
    "    return result"
   ]
  },
  {
   "cell_type": "code",
   "execution_count": 4,
   "id": "e0401a59-fd06-42b9-bc97-96d984a9feb9",
   "metadata": {},
   "outputs": [
    {
     "name": "stderr",
     "output_type": "stream",
     "text": [
      "/tmp/ipykernel_26690/1395900439.py:29: SettingWithCopyWarning: \n",
      "A value is trying to be set on a copy of a slice from a DataFrame\n",
      "\n",
      "See the caveats in the documentation: https://pandas.pydata.org/pandas-docs/stable/user_guide/indexing.html#returning-a-view-versus-a-copy\n",
      "  formatted_df[1][mask] = '_T'\n"
     ]
    }
   ],
   "source": [
    "c1 = combiner_type_1([3, 7, 8, 10, 23, 24, 26, 27, 31, 34, 35, 39, 44, 56, 58])\n",
    "c8 = combiner_type_8([0, 32, 33])"
   ]
  },
  {
   "cell_type": "code",
   "execution_count": 5,
   "id": "a6a18bd5-22b6-42ae-8bf1-52e843e2b7a1",
   "metadata": {
    "tags": []
   },
   "outputs": [],
   "source": [
    "c = pd.concat([c1, c8], axis=0) #  объединим промежуточные результаты\n",
    "filtered = c[~c['Значение'].isna() & (c['Значение'] != 0)] #  отфильтруем ноли и пропуски в значениях\n",
    "filtered.to_csv('tidy_data.csv', encoding='utf-8', index = False) #  выгрузим конечный результат"
   ]
  },
  {
   "cell_type": "code",
   "execution_count": null,
   "id": "68ba396e-423d-466d-bf16-2189998e5349",
   "metadata": {},
   "outputs": [],
   "source": []
  },
  {
   "cell_type": "code",
   "execution_count": null,
   "id": "7c8e167e-56dd-4088-a8ca-2cd816f48684",
   "metadata": {},
   "outputs": [],
   "source": []
  }
 ],
 "metadata": {
  "kernelspec": {
   "display_name": "Python 3",
   "language": "python",
   "name": "python3"
  },
  "language_info": {
   "codemirror_mode": {
    "name": "ipython",
    "version": 3
   },
   "file_extension": ".py",
   "mimetype": "text/x-python",
   "name": "python",
   "nbconvert_exporter": "python",
   "pygments_lexer": "ipython3",
   "version": "3.9.6"
  }
 },
 "nbformat": 4,
 "nbformat_minor": 5
}
