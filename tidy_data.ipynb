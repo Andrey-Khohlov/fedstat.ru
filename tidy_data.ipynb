{
 "cells": [
  {
   "cell_type": "code",
   "execution_count": 1,
   "id": "27d2fcf8-fd32-4b7c-94db-3f4586dc323b",
   "metadata": {},
   "outputs": [],
   "source": [
    "import pandas as pd\n",
    "import tidydata\n",
    "import warnings"
   ]
  },
  {
   "cell_type": "code",
   "execution_count": 6,
   "id": "f175b805-f5b2-4525-9c5c-733655d33080",
   "metadata": {
    "tags": []
   },
   "outputs": [],
   "source": [
    "#  выгрузим список индикаторв\n",
    "indicators = tidydata.indicators_scrapper(first_ind = '58536', last_ind = '58468')"
   ]
  },
  {
   "cell_type": "code",
   "execution_count": null,
   "id": "6addf1f5-9a32-487b-804b-083f6500b033",
   "metadata": {},
   "outputs": [],
   "source": [
    "#  выгрузим файлы данных с сайта федстата\n",
    "tidydata.fedstat_files_loader(indicators)"
   ]
  },
  {
   "cell_type": "code",
   "execution_count": 2,
   "id": "ec9c0c55-1fe5-4a70-a460-045884cf28dc",
   "metadata": {
    "tags": []
   },
   "outputs": [],
   "source": [
    "#  преобразуем данные\n",
    "warnings.filterwarnings('ignore')\n",
    "data_dir = '/home/dad/projects/tgu/test_task/data/' #  путь к папке с файлами данных\n",
    "c1 = tidydata.combiner_1(data_dir)\n",
    "c2 = tidydata.combiner_8(data_dir)\n",
    "c3 = tidydata.combiner_9(data_dir)\n",
    "c4 = tidydata.combiner_12(data_dir)\n",
    "c5 = tidydata.combiner_51(data_dir)\n",
    "c6 = tidydata.combiner_01(data_dir)\n",
    "c7 = tidydata.combiner_04(data_dir)\n",
    "c8 = tidydata.combiner_11(data_dir)\n",
    "c9 = tidydata.combiner_02(data_dir)"
   ]
  },
  {
   "cell_type": "code",
   "execution_count": 5,
   "id": "7c8e167e-56dd-4088-a8ca-2cd816f48684",
   "metadata": {},
   "outputs": [
    {
     "name": "stdout",
     "output_type": "stream",
     "text": [
      "CPU times: user 421 ms, sys: 16.1 ms, total: 437 ms\n",
      "Wall time: 437 ms\n"
     ]
    }
   ],
   "source": [
    "c1 = tidydata.combiner_1(data_dir)\n",
    "c2 = tidydata.combiner_8(data_dir)\n",
    "c3 = tidydata.combiner_9(data_dir)\n",
    "c4 = tidydata.combiner_12(data_dir)\n",
    "c5 = tidydata.combiner_51(data_dir)\n",
    "c6 = tidydata.combiner_01(data_dir)\n",
    "c7 = tidydata.combiner_04(data_dir)\n",
    "c8 = tidydata.combiner_11(data_dir)\n",
    "c9 = tidydata.combiner_02(data_dir)\n",
    "\n",
    "result = pd.concat([c1, c2, c3, c4, c5, c6, c7, c8, c9], axis=0)     #  соединим промежуточные результаты в одну таблицу\n",
    "result['Значение'] = result['Значение'].apply( lambda x: ','.join(str(x).split('.')) ) # замена разделитля десятичной части дроби на запятую\n",
    "result.dropna(subset=['Значение'], inplace=True) #  отфильтруем пропущенные значения\n",
    "filter = result['Значение'].isin([0, 'Null'])    #  отфильтруем нулевые значения\n",
    "result[~filter].to_csv('tidydata.csv', encoding='utf-8', sep=';', decimal=',', index = False) #  сохраним результаты в файл csv"
   ]
  },
  {
   "cell_type": "markdown",
   "id": "25e63d05-367c-4b1c-b532-b3c7c2f98235",
   "metadata": {
    "tags": []
   },
   "source": [
    "CPU times: user 421 ms, sys: 16.1 ms, total: 437 ms\n",
    "Wall time: 437 ms"
   ]
  },
  {
   "cell_type": "code",
   "execution_count": null,
   "id": "cb2e1af9-003d-4fe3-9868-1977d6a4b6dc",
   "metadata": {},
   "outputs": [],
   "source": []
  }
 ],
 "metadata": {
  "kernelspec": {
   "display_name": "Python 3",
   "language": "python",
   "name": "python3"
  },
  "language_info": {
   "codemirror_mode": {
    "name": "ipython",
    "version": 3
   },
   "file_extension": ".py",
   "mimetype": "text/x-python",
   "name": "python",
   "nbconvert_exporter": "python",
   "pygments_lexer": "ipython3",
   "version": "3.9.6"
  }
 },
 "nbformat": 4,
 "nbformat_minor": 5
}
