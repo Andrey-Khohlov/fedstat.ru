{
 "cells": [
  {
   "cell_type": "code",
   "execution_count": 3,
   "id": "18b916be-ae3c-49f2-9765-55e45ee8d2b1",
   "metadata": {},
   "outputs": [],
   "source": [
    "import os\n",
    "import pandas as pd\n",
    "import numpy as np\n",
    "import openpyxl"
   ]
  },
  {
   "cell_type": "code",
   "execution_count": null,
   "id": "31133fa3-3077-446c-a5ca-04bb5d9a1273",
   "metadata": {},
   "outputs": [],
   "source": [
    "def combiner_type_1(nr, data_dir = '/home/dad/projects/tgu/test_task/data/'):\n",
    "    ''' Принимает на вход номера файлов для обработки и директорию где эти файлы находятся,\n",
    "        записывает результрующий файл в директорию по умолчанию и возвращает этот файл как pd.DataFrame.\n",
    "        Обрабатывает только указанные файлы:\n",
    "        обработка файлов №№ 3, 7, 8, 10, 23, 24, 26, 27, 31, 34, 35, 39, 44, 56, 58,\n",
    "        индикаторов №№ 58683, 58684, 59597, 58672, 58525, 58484, 59557, 58527, 58712, 58681, 58702, 58807, 58700, 58517, 58468,\n",
    "    '''\n",
    "    result = pd.DataFrame(columns=('Расшифровка', 'Обозреваемый период', 'Единица измерения', 'Единица физических величин', 'Значение', \n",
    "                                   'Дата обновления данных', 'Пол', 'Возраст', 'Тип населенного пункта', 'Частота предоставления данных', \n",
    "                                   'Регион', 'Номер файла'))\n",
    "    for file_nr in nr:\n",
    "        #  загружаем файл:\n",
    "        data_name = data_dir + 'data(' + str(file_nr) + ').xls'\n",
    "        dict_df = pd.read_excel(data_name, sheet_name=None)\n",
    "        #  выделим в отдельные датафреймы Данные и Паспорт: \n",
    "        df = dict_df['Данные']\n",
    "        df1 = dict_df['Паспорт']\n",
    "        #  выделим значения из таблицы Данные:\n",
    "        a1 = df.columns[0]\n",
    "        a2 = df.iloc[2:, 0].astype(int)\n",
    "        a3 = df.iloc[2:, 1]\n",
    "        #  выставим значение для поля 'Единица физических величин':\n",
    "        if file_nr not in (35, 39, 56):\n",
    "            a4 = [df1.iloc[1, 1][2:]]\n",
    "        elif file_nr == 35:\n",
    "            a4 =['человек на миллион жителей']\n",
    "        elif file_nr == 39:\n",
    "            a4 = ['Количество исследователей (в эквиваленте полной занятости) на миллион жителей']\n",
    "        elif file_nr == 56:\n",
    "            a4 =['зарегистрированных больных на 100000 человек']\n",
    "        length = len(a2) # длина получаемой таблицы\n",
    "        #  сформируем таблицу по шаблону:\n",
    "        output = pd.DataFrame({'Расшифровка': [a1] * length,\n",
    "                          'Обозреваемый период': a2 if file_nr != 10 else [df.iloc[1, 1] + ', '] * 2 + df.iloc[2:, 0].astype(int).astype(str),\n",
    "                          'Единица измерения': [df1.iloc[1, 1][2:]] * length,\n",
    "                          'Единица физических величин': a4 * length, \n",
    "                          'Значение': df.iloc[2:, 1],\n",
    "                          'Дата обновления данных': [df1.iloc[5, 1]] * length,\n",
    "                          'Пол': ['_T'] * length,\n",
    "                          'Возраст': ['_T'] * length,\n",
    "                          'Тип населенного пункта': ['_T'] * length,\n",
    "                          'Частота предоставления данных': ['A' if df1.iloc[2, 1][:9] == '- Годовая' else df1.iloc[2, 1][2:16]] * length,\n",
    "                          'Регион': ['Российская Федерация'] * length,\n",
    "                          'Номер файла': [file_nr] * length\n",
    "                          })\n",
    "        result = pd.concat([result, output], axis=0) #  добавляем сформированную таблицу в результирующую таблицу\n",
    "    #  сохраним результаты в файл csv\n",
    "    result.to_csv('result_type_1.csv', encoding='utf-8', index = False)\n",
    "    return result"
   ]
  }
 ],
 "metadata": {
  "kernelspec": {
   "display_name": "Python 3",
   "language": "python",
   "name": "python3"
  },
  "language_info": {
   "codemirror_mode": {
    "name": "ipython",
    "version": 3
   },
   "file_extension": ".py",
   "mimetype": "text/x-python",
   "name": "python",
   "nbconvert_exporter": "python",
   "pygments_lexer": "ipython3",
   "version": "3.9.6"
  }
 },
 "nbformat": 4,
 "nbformat_minor": 5
}
