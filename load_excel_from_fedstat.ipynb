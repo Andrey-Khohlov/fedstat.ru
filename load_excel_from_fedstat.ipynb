{
 "cells": [
  {
   "cell_type": "markdown",
   "id": "58fa89f1-3e6a-4333-9e4a-2803e6353663",
   "metadata": {
    "tags": []
   },
   "source": [
    "**скачать эксель файлы с федстата**"
   ]
  },
  {
   "cell_type": "code",
   "execution_count": 1,
   "id": "b94b07e4-fd0d-4d97-b34c-5c5f285c30ab",
   "metadata": {},
   "outputs": [],
   "source": [
    "from selenium import webdriver\n",
    "from selenium.webdriver import Firefox"
   ]
  },
  {
   "cell_type": "code",
   "execution_count": 14,
   "id": "3734b18f-2738-4dc4-bb4f-452e186b798b",
   "metadata": {},
   "outputs": [],
   "source": [
    "driver = Firefox(executable_path='/home/dad/anaconda3/bin/geckodriver') # путь к geckodriver \n",
    "url = 'https://fedstat.ru'"
   ]
  },
  {
   "cell_type": "code",
   "execution_count": 15,
   "id": "cd1d6ee1-6029-4db5-ad2b-9ae8c6d27774",
   "metadata": {
    "tags": []
   },
   "outputs": [],
   "source": [
    "indexes = ['/indicator/58536',\n",
    " '/indicator/58685',\n",
    " '/indicator/59598',\n",
    " '/indicator/58683',\n",
    " '/indicator/59213',\n",
    " '/indicator/59802',\n",
    " '/indicator/59172',\n",
    " '/indicator/58684',\n",
    " '/indicator/59597',\n",
    " '/indicator/59024',\n",
    " '/indicator/58672',\n",
    " '/indicator/59023',\n",
    " '/indicator/58462',\n",
    " '/indicator/58477',\n",
    " '/indicator/58711',\n",
    " '/indicator/58460',\n",
    " '/indicator/58472',\n",
    " '/indicator/58476',\n",
    " '/indicator/59171',\n",
    " '/indicator/59170',\n",
    " '/indicator/58465',\n",
    " '/indicator/59169',\n",
    " '/indicator/58708',\n",
    " '/indicator/58525',\n",
    " '/indicator/58484',\n",
    " '/indicator/58483',\n",
    " '/indicator/59557',\n",
    " '/indicator/58527',\n",
    " '/indicator/58504',\n",
    " '/indicator/58508',\n",
    " '/indicator/58512',\n",
    " '/indicator/58712',\n",
    " '/indicator/59141',\n",
    " '/indicator/40552',\n",
    " '/indicator/58681',\n",
    " '/indicator/58702',\n",
    " '/indicator/57314',\n",
    " '/indicator/58677',\n",
    " '/indicator/60842',\n",
    " '/indicator/58807',\n",
    " '/indicator/58498',\n",
    " '/indicator/59165',\n",
    " '/indicator/59183',\n",
    " '/indicator/59166',\n",
    " '/indicator/58700',\n",
    " '/indicator/60961',\n",
    " '/indicator/58532',\n",
    " '/indicator/58547',\n",
    " '/indicator/58543',\n",
    " '/indicator/58550',\n",
    " '/indicator/58706',\n",
    " '/indicator/58673',\n",
    " '/indicator/59168',\n",
    " '/indicator/59156',\n",
    " '/indicator/58714',\n",
    " '/indicator/59163',\n",
    " '/indicator/58517',\n",
    " '/indicator/58491',\n",
    " '/indicator/58468']"
   ]
  },
  {
   "cell_type": "code",
   "execution_count": 16,
   "id": "11a9ea37-b6b5-4d14-8d04-3f28121a438d",
   "metadata": {
    "collapsed": true,
    "jupyter": {
     "outputs_hidden": true
    },
    "tags": []
   },
   "outputs": [
    {
     "name": "stdout",
     "output_type": "stream",
     "text": [
      "/indicator/58536\n",
      "/indicator/58685\n",
      "/indicator/59598\n",
      "/indicator/58683\n",
      "/indicator/59213\n",
      "/indicator/59802\n",
      "/indicator/59172\n",
      "/indicator/58684\n",
      "/indicator/59597\n",
      "/indicator/59024\n",
      "/indicator/58672\n",
      "/indicator/59023\n",
      "/indicator/58462\n",
      "/indicator/58477\n",
      "/indicator/58711\n",
      "/indicator/58460\n",
      "/indicator/58472\n",
      "/indicator/58476\n",
      "/indicator/59171\n",
      "/indicator/59170\n",
      "/indicator/58465\n",
      "/indicator/59169\n",
      "/indicator/58708\n",
      "/indicator/58525\n",
      "/indicator/58484\n",
      "/indicator/58483\n",
      "/indicator/59557\n",
      "/indicator/58527\n",
      "/indicator/58504\n",
      "/indicator/58508\n",
      "/indicator/58512\n",
      "/indicator/58712\n",
      "/indicator/59141\n",
      "/indicator/40552\n",
      "/indicator/58681\n",
      "/indicator/58702\n",
      "/indicator/57314\n",
      "/indicator/58677\n",
      "/indicator/60842\n",
      "/indicator/58807\n",
      "/indicator/58498\n",
      "/indicator/59165\n",
      "/indicator/59183\n",
      "/indicator/59166\n",
      "/indicator/58700\n",
      "/indicator/60961\n",
      "/indicator/58532\n",
      "/indicator/58547\n",
      "/indicator/58543\n",
      "/indicator/58550\n",
      "/indicator/58706\n",
      "/indicator/58673\n",
      "/indicator/59168\n",
      "/indicator/59156\n",
      "/indicator/58714\n",
      "/indicator/59163\n",
      "/indicator/58517\n",
      "/indicator/58491\n",
      "/indicator/58468\n"
     ]
    }
   ],
   "source": [
    "for index in indexes:\n",
    "    driver.get(url + index)\n",
    "    driver.find_element_by_class_name(\"icon-download\").click()\n",
    "    driver.find_element_by_class_name(\"backgr-exel\").click()"
   ]
  },
  {
   "cell_type": "code",
   "execution_count": 3,
   "id": "0915efc0-9b86-4954-93d6-5708481d4b0e",
   "metadata": {},
   "outputs": [],
   "source": [
    "driver.close()"
   ]
  },
  {
   "cell_type": "code",
   "execution_count": null,
   "id": "a3504c7d-f333-4d79-b8b1-5b7513f12704",
   "metadata": {},
   "outputs": [],
   "source": []
  }
 ],
 "metadata": {
  "kernelspec": {
   "display_name": "Python 3",
   "language": "python",
   "name": "python3"
  },
  "language_info": {
   "codemirror_mode": {
    "name": "ipython",
    "version": 3
   },
   "file_extension": ".py",
   "mimetype": "text/x-python",
   "name": "python",
   "nbconvert_exporter": "python",
   "pygments_lexer": "ipython3",
   "version": "3.9.6"
  }
 },
 "nbformat": 4,
 "nbformat_minor": 5
}
