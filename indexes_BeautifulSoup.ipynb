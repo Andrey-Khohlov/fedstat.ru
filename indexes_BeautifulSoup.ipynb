{
 "cells": [
  {
   "cell_type": "markdown",
   "id": "57ff5ee0-4559-450c-98ad-76fda7ad15ff",
   "metadata": {},
   "source": [
    "**индексы с BeautifulSoup**"
   ]
  },
  {
   "cell_type": "code",
   "execution_count": 29,
   "id": "3e9e28c7-af4c-4263-b639-1f7c1d570f99",
   "metadata": {},
   "outputs": [],
   "source": [
    "import requests\n",
    "from bs4 import BeautifulSoup"
   ]
  },
  {
   "cell_type": "code",
   "execution_count": 30,
   "id": "7d81582b-9706-478c-9e46-6c74f10b6c67",
   "metadata": {},
   "outputs": [],
   "source": [
    "url = 'https://www.fedstat.ru/organizations/'\n",
    "response = requests.get(url)"
   ]
  },
  {
   "cell_type": "code",
   "execution_count": 31,
   "id": "a1ebe510-cb86-41c4-998e-a8bb904f6aaa",
   "metadata": {},
   "outputs": [],
   "source": [
    "soup = BeautifulSoup(response.text, 'lxml')"
   ]
  },
  {
   "cell_type": "code",
   "execution_count": 32,
   "id": "08f33c6b-a346-48d8-875a-2ffc6f1d9f7a",
   "metadata": {
    "tags": []
   },
   "outputs": [],
   "source": [
    "all_indicators = []\n",
    "for a in soup.find_all('a', href=True):\n",
    "    all_indicators.append(a['href'])"
   ]
  },
  {
   "cell_type": "code",
   "execution_count": 34,
   "id": "0fb2ca26-5ab6-4611-ad06-d89d32856e52",
   "metadata": {},
   "outputs": [],
   "source": [
    "first = all_indicators.index('/indicator/58536')\n",
    "last = all_indicators.index('/indicator/58468')\n",
    "indexes = []\n",
    "for i in range(first, last + 1):\n",
    "    text = all_indicators[i]\n",
    "    if text != '#':\n",
    "        indexes.append(text)"
   ]
  },
  {
   "cell_type": "code",
   "execution_count": 35,
   "id": "accd4a37-79f2-4479-8810-55d68ae6cca5",
   "metadata": {},
   "outputs": [
    {
     "data": {
      "text/plain": [
       "['/indicator/58536',\n",
       " '/indicator/58685',\n",
       " '/indicator/59598',\n",
       " '/indicator/58683',\n",
       " '/indicator/59213',\n",
       " '/indicator/59802',\n",
       " '/indicator/59172',\n",
       " '/indicator/58684',\n",
       " '/indicator/59597',\n",
       " '/indicator/59024',\n",
       " '/indicator/58672',\n",
       " '/indicator/59023',\n",
       " '/indicator/58462',\n",
       " '/indicator/58477',\n",
       " '/indicator/58711',\n",
       " '/indicator/58460',\n",
       " '/indicator/58472',\n",
       " '/indicator/58476',\n",
       " '/indicator/59171',\n",
       " '/indicator/59170',\n",
       " '/indicator/58465',\n",
       " '/indicator/59169',\n",
       " '/indicator/58708',\n",
       " '/indicator/58525',\n",
       " '/indicator/58484',\n",
       " '/indicator/58483',\n",
       " '/indicator/59557',\n",
       " '/indicator/58527',\n",
       " '/indicator/58504',\n",
       " '/indicator/58508',\n",
       " '/indicator/58512',\n",
       " '/indicator/58712',\n",
       " '/indicator/59141',\n",
       " '/indicator/40552',\n",
       " '/indicator/58681',\n",
       " '/indicator/58702',\n",
       " '/indicator/57314',\n",
       " '/indicator/58677',\n",
       " '/indicator/60842',\n",
       " '/indicator/58807',\n",
       " '/indicator/58498',\n",
       " '/indicator/59165',\n",
       " '/indicator/59183',\n",
       " '/indicator/59166',\n",
       " '/indicator/58700',\n",
       " '/indicator/60961',\n",
       " '/indicator/58532',\n",
       " '/indicator/58547',\n",
       " '/indicator/58543',\n",
       " '/indicator/58550',\n",
       " '/indicator/58706',\n",
       " '/indicator/58673',\n",
       " '/indicator/59168',\n",
       " '/indicator/59156',\n",
       " '/indicator/58714',\n",
       " '/indicator/59163',\n",
       " '/indicator/58517',\n",
       " '/indicator/58491',\n",
       " '/indicator/58468']"
      ]
     },
     "execution_count": 35,
     "metadata": {},
     "output_type": "execute_result"
    }
   ],
   "source": [
    "indexes"
   ]
  },
  {
   "cell_type": "code",
   "execution_count": null,
   "id": "67ec4d47-3fb1-42ba-bf8e-b25448ff2417",
   "metadata": {},
   "outputs": [],
   "source": []
  }
 ],
 "metadata": {
  "kernelspec": {
   "display_name": "Python 3",
   "language": "python",
   "name": "python3"
  },
  "language_info": {
   "codemirror_mode": {
    "name": "ipython",
    "version": 3
   },
   "file_extension": ".py",
   "mimetype": "text/x-python",
   "name": "python",
   "nbconvert_exporter": "python",
   "pygments_lexer": "ipython3",
   "version": "3.9.6"
  }
 },
 "nbformat": 4,
 "nbformat_minor": 5
}
